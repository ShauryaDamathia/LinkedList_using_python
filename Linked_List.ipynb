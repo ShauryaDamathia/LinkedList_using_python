{
  "nbformat": 4,
  "nbformat_minor": 0,
  "metadata": {
    "colab": {
      "provenance": [],
      "authorship_tag": "ABX9TyNYZP68mvqxc8LnFa4QW2/U",
      "include_colab_link": true
    },
    "kernelspec": {
      "name": "python3",
      "display_name": "Python 3"
    },
    "language_info": {
      "name": "python"
    }
  },
  "cells": [
    {
      "cell_type": "markdown",
      "metadata": {
        "id": "view-in-github",
        "colab_type": "text"
      },
      "source": [
        "<a href=\"https://colab.research.google.com/github/ShauryaDamathia/LinkedList_using_python/blob/main/Linked_List.ipynb\" target=\"_parent\"><img src=\"https://colab.research.google.com/assets/colab-badge.svg\" alt=\"Open In Colab\"/></a>"
      ]
    },
    {
      "cell_type": "code",
      "execution_count": 1,
      "metadata": {
        "id": "kL4rNxSSRcMh"
      },
      "outputs": [],
      "source": [
        "class Node:\n",
        "    def __init__(self, data):\n",
        "        self.data = data\n",
        "        self.next = None"
      ]
    },
    {
      "cell_type": "code",
      "source": [
        "class LinkedList:\n",
        "    def __init__(self):\n",
        "        self.head = None\n",
        "\n",
        "    def AddNode(self, data):\n",
        "        newNode = Node(data)\n",
        "        if not self.head:\n",
        "            self.head = newNode\n",
        "            return\n",
        "\n",
        "        curr = self.head\n",
        "        while curr.next:\n",
        "            curr = curr.next\n",
        "        curr.next = newNode\n",
        "\n",
        "    def PrintList(self):\n",
        "        if not self.head:\n",
        "            print(\"Empty List\")\n",
        "            return\n",
        "\n",
        "        curr = self.head\n",
        "        while curr:\n",
        "            print(curr.data, end=\" -> \")\n",
        "            curr = curr.next\n",
        "        print(\"Null\")\n",
        "\n",
        "    def DeleteNthNode(self, position):\n",
        "        if not self.head:\n",
        "            raise IndexError(\"Empty List\")\n",
        "\n",
        "        if position == 1:\n",
        "            deletedValue = self.head.data\n",
        "            self.head = self.head.next\n",
        "            return\n",
        "\n",
        "        prev = None\n",
        "        curr = self.head\n",
        "        currPosition = 1\n",
        "\n",
        "        while curr and currPosition < position:\n",
        "            prev = curr\n",
        "            curr = curr.next\n",
        "            currPosition += 1\n",
        "\n",
        "        if not curr:\n",
        "            raise IndexError(f\"The list only has {currPosition-1} nodes - can't delete position {position}\")\n",
        "\n",
        "        prev.next = curr.next"
      ],
      "metadata": {
        "id": "uM7fdH8iRvJe"
      },
      "execution_count": 2,
      "outputs": []
    },
    {
      "cell_type": "code",
      "source": [
        "def main():\n",
        "    ll = LinkedList()\n",
        "\n",
        "    ll.AddNode(10)\n",
        "    ll.AddNode(20)\n",
        "    ll.AddNode(30)\n",
        "    ll.AddNode(40)\n",
        "    ll.PrintList()\n",
        "\n",
        "    ll.DeleteNthNode(2)\n",
        "    print(\"\\nAfter Deletion\")\n",
        "    ll.PrintList()\n",
        "\n",
        "    try:\n",
        "        ll.DeleteNthNode(10)\n",
        "    except IndexError as e:\n",
        "        print(\"\\nError:\", e)\n",
        "\n",
        "    empty_ll = LinkedList()\n",
        "    try:\n",
        "        empty_ll.DeleteNthNode(1)\n",
        "    except IndexError as e:\n",
        "        print(\"\\nError:\", e)\n",
        "\n",
        "if __name__ == \"__main__\":\n",
        "    main()"
      ],
      "metadata": {
        "colab": {
          "base_uri": "https://localhost:8080/"
        },
        "id": "0s28vJQSUVT-",
        "outputId": "2f30c4f9-566d-4a9c-c766-26282cad9dcf"
      },
      "execution_count": 6,
      "outputs": [
        {
          "output_type": "stream",
          "name": "stdout",
          "text": [
            "10 -> 20 -> 30 -> 40 -> Null\n",
            "\n",
            "After Deletion\n",
            "10 -> 30 -> 40 -> Null\n",
            "\n",
            "Error: The list only has 3 nodes - can't delete position 10\n",
            "\n",
            "Error: Empty List\n"
          ]
        }
      ]
    }
  ]
}